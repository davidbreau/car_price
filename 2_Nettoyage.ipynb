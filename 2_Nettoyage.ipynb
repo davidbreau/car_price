{
 "cells": [
  {
   "cell_type": "code",
   "execution_count": 1120,
   "metadata": {},
   "outputs": [],
   "source": [
    "import pandas as pd"
   ]
  },
  {
   "attachments": {},
   "cell_type": "markdown",
   "metadata": {},
   "source": [
    "### 1. Import"
   ]
  },
  {
   "cell_type": "code",
   "execution_count": 1121,
   "metadata": {},
   "outputs": [
    {
     "data": {
      "text/plain": [
       "Index(['car_ID', 'symboling', 'CarName', 'fueltype', 'aspiration',\n",
       "       'doornumber', 'carbody', 'drivewheel', 'enginelocation', 'wheelbase',\n",
       "       'carlength', 'carwidth', 'carheight', 'curbweight', 'enginetype',\n",
       "       'cylindernumber', 'enginesize', 'fuelsystem', 'boreratio', 'stroke',\n",
       "       'compressionratio', 'horsepower', 'peakrpm', 'citympg', 'highwaympg',\n",
       "       'price'],\n",
       "      dtype='object')"
      ]
     },
     "execution_count": 1121,
     "metadata": {},
     "output_type": "execute_result"
    }
   ],
   "source": [
    "df = pd.read_csv('data/cars_infos.csv')\n",
    "df.columns"
   ]
  },
  {
   "attachments": {},
   "cell_type": "markdown",
   "metadata": {},
   "source": [
    "### 2. Traitement des colonnes"
   ]
  },
  {
   "attachments": {},
   "cell_type": "markdown",
   "metadata": {},
   "source": [
    "a. Indexion :<br>\n",
    "- car_ID"
   ]
  },
  {
   "cell_type": "code",
   "execution_count": 1122,
   "metadata": {},
   "outputs": [],
   "source": [
    "# on supprimme la colonne et on garde l'index du dataframe\n",
    "df = df.drop('car_ID', axis=1)"
   ]
  },
  {
   "attachments": {},
   "cell_type": "markdown",
   "metadata": {},
   "source": [
    "b. Séparation :  \n",
    "- CarName"
   ]
  },
  {
   "cell_type": "code",
   "execution_count": 1123,
   "metadata": {},
   "outputs": [
    {
     "data": {
      "text/html": [
       "<div>\n",
       "<style scoped>\n",
       "    .dataframe tbody tr th:only-of-type {\n",
       "        vertical-align: middle;\n",
       "    }\n",
       "\n",
       "    .dataframe tbody tr th {\n",
       "        vertical-align: top;\n",
       "    }\n",
       "\n",
       "    .dataframe thead th {\n",
       "        text-align: right;\n",
       "    }\n",
       "</style>\n",
       "<table border=\"1\" class=\"dataframe\">\n",
       "  <thead>\n",
       "    <tr style=\"text-align: right;\">\n",
       "      <th></th>\n",
       "      <th>Marque</th>\n",
       "      <th>Modèle</th>\n",
       "    </tr>\n",
       "  </thead>\n",
       "  <tbody>\n",
       "    <tr>\n",
       "      <th>131</th>\n",
       "      <td>Renault</td>\n",
       "      <td>5 Gtl</td>\n",
       "    </tr>\n",
       "    <tr>\n",
       "      <th>136</th>\n",
       "      <td>Saab</td>\n",
       "      <td>99Gle</td>\n",
       "    </tr>\n",
       "    <tr>\n",
       "      <th>129</th>\n",
       "      <td>Porsche</td>\n",
       "      <td>Cayenne</td>\n",
       "    </tr>\n",
       "    <tr>\n",
       "      <th>92</th>\n",
       "      <td>Nissan</td>\n",
       "      <td>Latio</td>\n",
       "    </tr>\n",
       "    <tr>\n",
       "      <th>127</th>\n",
       "      <td>Porsche</td>\n",
       "      <td>Cayenne</td>\n",
       "    </tr>\n",
       "  </tbody>\n",
       "</table>\n",
       "</div>"
      ],
      "text/plain": [
       "      Marque   Modèle\n",
       "131  Renault    5 Gtl\n",
       "136     Saab    99Gle\n",
       "129  Porsche  Cayenne\n",
       "92    Nissan    Latio\n",
       "127  Porsche  Cayenne"
      ]
     },
     "execution_count": 1123,
     "metadata": {},
     "output_type": "execute_result"
    }
   ],
   "source": [
    "# on extrait le modèle inclut dans le CarName\n",
    "df['Modèle'] = df.CarName.apply(lambda x : ' '.join(x.split(' ')[1:]).title())\n",
    "\n",
    "# on ne garde que la marque dans le CarName\n",
    "df.CarName = df.CarName.apply(lambda x : x.split(' ')[0].title())\n",
    "\n",
    "# on renomme\n",
    "df = df.rename(columns={'CarName':'Marque'})\n",
    "\n",
    "df[['Marque','Modèle']].sample(5)"
   ]
  },
  {
   "attachments": {},
   "cell_type": "markdown",
   "metadata": {},
   "source": [
    "c. Traduction :  \n",
    "- fueltype, carbody, drivewheel, enginelocation"
   ]
  },
  {
   "cell_type": "code",
   "execution_count": 1124,
   "metadata": {},
   "outputs": [],
   "source": [
    "# on définit les dictionnaires\n",
    "\n",
    "fueltype_fr = {\n",
    "    'gas' : 'Essence',\n",
    "    'diesel' : 'Diesel'\n",
    "}\n",
    "\n",
    "carbody_fr = {\n",
    "    'convertible':'Cabriolet',\n",
    "    'hatchback':'Hayon',\n",
    "    'sedan':'Berline',\n",
    "    'wagon':'Break',\n",
    "    'hardtop':'Coupé'\n",
    "}\n",
    "\n",
    "drivewheel_fr = {\n",
    "    'rwd' : 'Propulsion arrière',\n",
    "    'fwd' : 'Traction avant',\n",
    "    '4wd' : 'Quatre roues motrices' \n",
    "}\n",
    "\n",
    "enginelocation_fr = {\n",
    "    'front':'Avant',\n",
    "    'rear':'Arrière'\n",
    "}"
   ]
  },
  {
   "cell_type": "code",
   "execution_count": 1125,
   "metadata": {},
   "outputs": [
    {
     "data": {
      "text/html": [
       "<div>\n",
       "<style scoped>\n",
       "    .dataframe tbody tr th:only-of-type {\n",
       "        vertical-align: middle;\n",
       "    }\n",
       "\n",
       "    .dataframe tbody tr th {\n",
       "        vertical-align: top;\n",
       "    }\n",
       "\n",
       "    .dataframe thead th {\n",
       "        text-align: right;\n",
       "    }\n",
       "</style>\n",
       "<table border=\"1\" class=\"dataframe\">\n",
       "  <thead>\n",
       "    <tr style=\"text-align: right;\">\n",
       "      <th></th>\n",
       "      <th>Carburant</th>\n",
       "      <th>Classe</th>\n",
       "      <th>Transmission</th>\n",
       "      <th>PositionMoteur</th>\n",
       "    </tr>\n",
       "  </thead>\n",
       "  <tbody>\n",
       "    <tr>\n",
       "      <th>100</th>\n",
       "      <td>Essence</td>\n",
       "      <td>Berline</td>\n",
       "      <td>Traction avant</td>\n",
       "      <td>Avant</td>\n",
       "    </tr>\n",
       "    <tr>\n",
       "      <th>165</th>\n",
       "      <td>Essence</td>\n",
       "      <td>Berline</td>\n",
       "      <td>Propulsion arrière</td>\n",
       "      <td>Avant</td>\n",
       "    </tr>\n",
       "    <tr>\n",
       "      <th>203</th>\n",
       "      <td>Diesel</td>\n",
       "      <td>Berline</td>\n",
       "      <td>Propulsion arrière</td>\n",
       "      <td>Avant</td>\n",
       "    </tr>\n",
       "    <tr>\n",
       "      <th>187</th>\n",
       "      <td>Diesel</td>\n",
       "      <td>Berline</td>\n",
       "      <td>Traction avant</td>\n",
       "      <td>Avant</td>\n",
       "    </tr>\n",
       "    <tr>\n",
       "      <th>204</th>\n",
       "      <td>Essence</td>\n",
       "      <td>Berline</td>\n",
       "      <td>Propulsion arrière</td>\n",
       "      <td>Avant</td>\n",
       "    </tr>\n",
       "  </tbody>\n",
       "</table>\n",
       "</div>"
      ],
      "text/plain": [
       "    Carburant   Classe        Transmission PositionMoteur\n",
       "100   Essence  Berline      Traction avant          Avant\n",
       "165   Essence  Berline  Propulsion arrière          Avant\n",
       "203    Diesel  Berline  Propulsion arrière          Avant\n",
       "187    Diesel  Berline      Traction avant          Avant\n",
       "204   Essence  Berline  Propulsion arrière          Avant"
      ]
     },
     "execution_count": 1125,
     "metadata": {},
     "output_type": "execute_result"
    }
   ],
   "source": [
    "# On mappe les traductions grâce aux dictionnaires ci-dessus:\n",
    "df.fueltype = df.fueltype.apply(lambda x : fueltype_fr[x])\n",
    "df.carbody = df.carbody.apply(lambda x : carbody_fr[x])\n",
    "df.drivewheel = df.drivewheel.apply(lambda x: drivewheel_fr[x])\n",
    "df.enginelocation = df.enginelocation.apply(lambda x: enginelocation_fr[x])\n",
    "\n",
    "# On traduit les colonnes\n",
    "df = df.rename(columns={\n",
    "    'fueltype':'Carburant',\n",
    "    'carbody':'Classe',\n",
    "    'drivewheel':'Transmission',\n",
    "    'enginelocation':'PositionMoteur'\n",
    "    })\n",
    "\n",
    "df[['Carburant', 'Classe','Transmission','PositionMoteur']].sample(5)"
   ]
  },
  {
   "attachments": {},
   "cell_type": "markdown",
   "metadata": {},
   "source": [
    "d. Correspondance:  \n",
    "- aspiration"
   ]
  },
  {
   "cell_type": "code",
   "execution_count": 1126,
   "metadata": {},
   "outputs": [
    {
     "data": {
      "text/plain": [
       "array(['std', 'turbo'], dtype=object)"
      ]
     },
     "execution_count": 1126,
     "metadata": {},
     "output_type": "execute_result"
    }
   ],
   "source": [
    "#La colonne indique si la voiture possède un turbo\n",
    "df.aspiration.unique()"
   ]
  },
  {
   "cell_type": "code",
   "execution_count": 1127,
   "metadata": {},
   "outputs": [
    {
     "data": {
      "text/html": [
       "<div>\n",
       "<style scoped>\n",
       "    .dataframe tbody tr th:only-of-type {\n",
       "        vertical-align: middle;\n",
       "    }\n",
       "\n",
       "    .dataframe tbody tr th {\n",
       "        vertical-align: top;\n",
       "    }\n",
       "\n",
       "    .dataframe thead th {\n",
       "        text-align: right;\n",
       "    }\n",
       "</style>\n",
       "<table border=\"1\" class=\"dataframe\">\n",
       "  <thead>\n",
       "    <tr style=\"text-align: right;\">\n",
       "      <th></th>\n",
       "      <th>Turbo</th>\n",
       "    </tr>\n",
       "  </thead>\n",
       "  <tbody>\n",
       "    <tr>\n",
       "      <th>150</th>\n",
       "      <td>False</td>\n",
       "    </tr>\n",
       "    <tr>\n",
       "      <th>138</th>\n",
       "      <td>False</td>\n",
       "    </tr>\n",
       "    <tr>\n",
       "      <th>9</th>\n",
       "      <td>True</td>\n",
       "    </tr>\n",
       "    <tr>\n",
       "      <th>172</th>\n",
       "      <td>False</td>\n",
       "    </tr>\n",
       "    <tr>\n",
       "      <th>88</th>\n",
       "      <td>False</td>\n",
       "    </tr>\n",
       "  </tbody>\n",
       "</table>\n",
       "</div>"
      ],
      "text/plain": [
       "     Turbo\n",
       "150  False\n",
       "138  False\n",
       "9     True\n",
       "172  False\n",
       "88   False"
      ]
     },
     "execution_count": 1127,
     "metadata": {},
     "output_type": "execute_result"
    }
   ],
   "source": [
    "#On transforme la colonne en booléen Turbo = True/False\n",
    "aspiration_fr = {\n",
    "    'std' : False,\n",
    "    'turbo' : True,\n",
    "}\n",
    "df.aspiration = df.aspiration.apply(lambda x : aspiration_fr[x])\n",
    "df = df.rename(columns={'aspiration':'Turbo'})\n",
    "df[['Turbo']].sample(5)"
   ]
  },
  {
   "attachments": {},
   "cell_type": "markdown",
   "metadata": {},
   "source": [
    "e. Numérisation:  \n",
    "- doornumber, cylindernumber"
   ]
  },
  {
   "cell_type": "code",
   "execution_count": 1128,
   "metadata": {},
   "outputs": [],
   "source": [
    "# On définit le dictionnaire\n",
    "number_fr = {\n",
    "    'two' : 2,\n",
    "    'three' : 3,\n",
    "    'four' : 4,\n",
    "    'five' : 5,\n",
    "    'six' : 6,\n",
    "    'eight' : 8,\n",
    "    'twelve' : 12\n",
    "}"
   ]
  },
  {
   "cell_type": "code",
   "execution_count": 1129,
   "metadata": {},
   "outputs": [
    {
     "data": {
      "text/html": [
       "<div>\n",
       "<style scoped>\n",
       "    .dataframe tbody tr th:only-of-type {\n",
       "        vertical-align: middle;\n",
       "    }\n",
       "\n",
       "    .dataframe tbody tr th {\n",
       "        vertical-align: top;\n",
       "    }\n",
       "\n",
       "    .dataframe thead th {\n",
       "        text-align: right;\n",
       "    }\n",
       "</style>\n",
       "<table border=\"1\" class=\"dataframe\">\n",
       "  <thead>\n",
       "    <tr style=\"text-align: right;\">\n",
       "      <th></th>\n",
       "      <th>Portes</th>\n",
       "      <th>Cylindres</th>\n",
       "    </tr>\n",
       "  </thead>\n",
       "  <tbody>\n",
       "    <tr>\n",
       "      <th>104</th>\n",
       "      <td>3</td>\n",
       "      <td>6</td>\n",
       "    </tr>\n",
       "    <tr>\n",
       "      <th>160</th>\n",
       "      <td>5</td>\n",
       "      <td>4</td>\n",
       "    </tr>\n",
       "    <tr>\n",
       "      <th>175</th>\n",
       "      <td>5</td>\n",
       "      <td>4</td>\n",
       "    </tr>\n",
       "    <tr>\n",
       "      <th>15</th>\n",
       "      <td>5</td>\n",
       "      <td>6</td>\n",
       "    </tr>\n",
       "    <tr>\n",
       "      <th>176</th>\n",
       "      <td>5</td>\n",
       "      <td>4</td>\n",
       "    </tr>\n",
       "  </tbody>\n",
       "</table>\n",
       "</div>"
      ],
      "text/plain": [
       "     Portes  Cylindres\n",
       "104       3          6\n",
       "160       5          4\n",
       "175       5          4\n",
       "15        5          6\n",
       "176       5          4"
      ]
     },
     "execution_count": 1129,
     "metadata": {},
     "output_type": "execute_result"
    }
   ],
   "source": [
    "#On transforme les valeurs textuelles en numérique grâce au dictionnaire:\n",
    "\n",
    "df.doornumber = df.doornumber.apply(lambda x: number_fr[x]+1)\n",
    "# /!\\ On ajoutte un car en Français on compte le coffre comme porte\n",
    "\n",
    "df.cylindernumber = df.cylindernumber.apply(lambda x: number_fr[x])\n",
    "\n",
    "#on traduit les colonnes\n",
    "df = df.rename(columns={\n",
    "    'doornumber':'Portes',\n",
    "    'cylindernumber':'Cylindres'})\n",
    "df[['Portes','Cylindres']].sample(5)"
   ]
  },
  {
   "attachments": {},
   "cell_type": "markdown",
   "metadata": {},
   "source": [
    "f. Conversion:  \n",
    "- wheelbase, carlenght, carheight, curbweight, enginesize, boreratio, stroke, citympg, highwaympg"
   ]
  },
  {
   "cell_type": "code",
   "execution_count": 1130,
   "metadata": {},
   "outputs": [
    {
     "data": {
      "text/html": [
       "<div>\n",
       "<style scoped>\n",
       "    .dataframe tbody tr th:only-of-type {\n",
       "        vertical-align: middle;\n",
       "    }\n",
       "\n",
       "    .dataframe tbody tr th {\n",
       "        vertical-align: top;\n",
       "    }\n",
       "\n",
       "    .dataframe thead th {\n",
       "        text-align: right;\n",
       "    }\n",
       "</style>\n",
       "<table border=\"1\" class=\"dataframe\">\n",
       "  <thead>\n",
       "    <tr style=\"text-align: right;\">\n",
       "      <th></th>\n",
       "      <th>Empattement(cm)</th>\n",
       "      <th>Longueur(cm)</th>\n",
       "      <th>Hauteur(cm)</th>\n",
       "      <th>Poids(t)</th>\n",
       "      <th>Alésage(mm)</th>\n",
       "      <th>Piston(cm)</th>\n",
       "      <th>ConsommationVille(L/100km)</th>\n",
       "      <th>ConsommationAutoroute(L/100km)</th>\n",
       "    </tr>\n",
       "  </thead>\n",
       "  <tbody>\n",
       "    <tr>\n",
       "      <th>186</th>\n",
       "      <td>247</td>\n",
       "      <td>436</td>\n",
       "      <td>141</td>\n",
       "      <td>1.032</td>\n",
       "      <td>81</td>\n",
       "      <td>9</td>\n",
       "      <td>0.115</td>\n",
       "      <td>0.145</td>\n",
       "    </tr>\n",
       "    <tr>\n",
       "      <th>117</th>\n",
       "      <td>274</td>\n",
       "      <td>474</td>\n",
       "      <td>142</td>\n",
       "      <td>1.420</td>\n",
       "      <td>92</td>\n",
       "      <td>8</td>\n",
       "      <td>0.077</td>\n",
       "      <td>0.102</td>\n",
       "    </tr>\n",
       "    <tr>\n",
       "      <th>151</th>\n",
       "      <td>243</td>\n",
       "      <td>403</td>\n",
       "      <td>138</td>\n",
       "      <td>0.925</td>\n",
       "      <td>77</td>\n",
       "      <td>8</td>\n",
       "      <td>0.132</td>\n",
       "      <td>0.162</td>\n",
       "    </tr>\n",
       "    <tr>\n",
       "      <th>82</th>\n",
       "      <td>244</td>\n",
       "      <td>440</td>\n",
       "      <td>128</td>\n",
       "      <td>1.285</td>\n",
       "      <td>91</td>\n",
       "      <td>10</td>\n",
       "      <td>0.081</td>\n",
       "      <td>0.102</td>\n",
       "    </tr>\n",
       "    <tr>\n",
       "      <th>61</th>\n",
       "      <td>251</td>\n",
       "      <td>452</td>\n",
       "      <td>136</td>\n",
       "      <td>1.082</td>\n",
       "      <td>86</td>\n",
       "      <td>9</td>\n",
       "      <td>0.111</td>\n",
       "      <td>0.136</td>\n",
       "    </tr>\n",
       "  </tbody>\n",
       "</table>\n",
       "</div>"
      ],
      "text/plain": [
       "     Empattement(cm)  Longueur(cm)  Hauteur(cm)  Poids(t)  Alésage(mm)  \\\n",
       "186              247           436          141     1.032           81   \n",
       "117              274           474          142     1.420           92   \n",
       "151              243           403          138     0.925           77   \n",
       "82               244           440          128     1.285           91   \n",
       "61               251           452          136     1.082           86   \n",
       "\n",
       "     Piston(cm)  ConsommationVille(L/100km)  ConsommationAutoroute(L/100km)  \n",
       "186           9                       0.115                           0.145  \n",
       "117           8                       0.077                           0.102  \n",
       "151           8                       0.132                           0.162  \n",
       "82           10                       0.081                           0.102  \n",
       "61            9                       0.111                           0.136  "
      ]
     },
     "execution_count": 1130,
     "metadata": {},
     "output_type": "execute_result"
    }
   ],
   "source": [
    "#on convertit de pouces(in) en centimètres(cm)\n",
    "df.wheelbase = df.wheelbase.apply(lambda x: round(2.54*x))\n",
    "df.carlength = df.carlength.apply(lambda x: round(2.54*x))\n",
    "df.carwidth = df.carwidth.apply(lambda x: round(2.54*x))\n",
    "df.carheight = df.carheight.apply(lambda x: round(2.54*x))\n",
    "df.stroke = df.stroke.apply(lambda x: round(2.54*x))\n",
    "\n",
    "#On convertit de livres(lbs) en tonnes(T)\n",
    "df.curbweight = df.curbweight.apply(lambda x: round(0.45359*x)/1000)\n",
    "\n",
    "#On convertit de pouces cubes(in³) en centimètres cubes(cm³)\n",
    "df.enginesize = df.enginesize.apply(lambda x: round(16.3871*x))\n",
    "\n",
    "#On convertit de pouces(in) en milimètres\n",
    "df.boreratio = df.boreratio.apply(lambda x : round(25.4*x))\n",
    "\n",
    "#On convertit de Miles per gallon(mpg) en litres au 100(L/100km)\n",
    "df.citympg = df.citympg.apply(lambda x: round(x/235.214,3))\n",
    "df.highwaympg = df.highwaympg.apply(lambda x: round(x/235.214,3))\n",
    "\n",
    "#on traduit les colonnes en indiquant l'unité de mesure métrique\n",
    "df = df.rename(columns={\n",
    "    'wheelbase':'Empattement(cm)',\n",
    "    'carlength':'Longueur(cm)',\n",
    "    'carheight':'Hauteur(cm)',\n",
    "    'carwidth' : 'Largeur(cm)',\n",
    "    'curbweight' : 'Poids(t)',\n",
    "    'enginesize': 'Moteur(cm³)',\n",
    "    'boreratio' : 'Alésage(mm)',\n",
    "    'stroke' : 'Piston(cm)',\n",
    "    'citympg' : 'ConsommationVille(L/100km)',\n",
    "    'highwaympg' : 'ConsommationAutoroute(L/100km)'\n",
    "    })\n",
    "df[['Empattement(cm)', 'Longueur(cm)', 'Hauteur(cm)', 'Poids(t)', 'Alésage(mm)', 'Piston(cm)', 'ConsommationVille(L/100km)', 'ConsommationAutoroute(L/100km)']].sample(5)"
   ]
  },
  {
   "attachments": {},
   "cell_type": "markdown",
   "metadata": {},
   "source": [
    "g. Mise en forme:  \n",
    "- enginetype, fuelsystem"
   ]
  },
  {
   "cell_type": "code",
   "execution_count": 1131,
   "metadata": {},
   "outputs": [
    {
     "name": "stdout",
     "output_type": "stream",
     "text": [
      "Engines types : ['dohc' 'ohcv' 'ohc' 'l' 'rotor' 'ohcf' 'dohcv'] \n",
      " Fuel systems : ['mpfi' '2bbl' 'mfi' '1bbl' 'spfi' '4bbl' 'idi' 'spdi']\n"
     ]
    }
   ],
   "source": [
    "# Le type de moteur et le système d'injection est representé par des codes suffisament éloquents\n",
    "enginetype = df.enginetype.unique()\n",
    "fuelsystem = df.fuelsystem.unique()\n",
    "print(f'Engines types : {enginetype} \\n Fuel systems : {fuelsystem}')"
   ]
  },
  {
   "cell_type": "code",
   "execution_count": 1132,
   "metadata": {},
   "outputs": [
    {
     "data": {
      "text/html": [
       "<div>\n",
       "<style scoped>\n",
       "    .dataframe tbody tr th:only-of-type {\n",
       "        vertical-align: middle;\n",
       "    }\n",
       "\n",
       "    .dataframe tbody tr th {\n",
       "        vertical-align: top;\n",
       "    }\n",
       "\n",
       "    .dataframe thead th {\n",
       "        text-align: right;\n",
       "    }\n",
       "</style>\n",
       "<table border=\"1\" class=\"dataframe\">\n",
       "  <thead>\n",
       "    <tr style=\"text-align: right;\">\n",
       "      <th></th>\n",
       "      <th>TypeMoteur</th>\n",
       "      <th>Injecteur</th>\n",
       "    </tr>\n",
       "  </thead>\n",
       "  <tbody>\n",
       "    <tr>\n",
       "      <th>55</th>\n",
       "      <td>ROTOR</td>\n",
       "      <td>4BBL</td>\n",
       "    </tr>\n",
       "    <tr>\n",
       "      <th>165</th>\n",
       "      <td>DOHC</td>\n",
       "      <td>MPFI</td>\n",
       "    </tr>\n",
       "    <tr>\n",
       "      <th>76</th>\n",
       "      <td>OHC</td>\n",
       "      <td>2BBL</td>\n",
       "    </tr>\n",
       "    <tr>\n",
       "      <th>179</th>\n",
       "      <td>DOHC</td>\n",
       "      <td>MPFI</td>\n",
       "    </tr>\n",
       "    <tr>\n",
       "      <th>8</th>\n",
       "      <td>OHC</td>\n",
       "      <td>MPFI</td>\n",
       "    </tr>\n",
       "  </tbody>\n",
       "</table>\n",
       "</div>"
      ],
      "text/plain": [
       "    TypeMoteur Injecteur\n",
       "55       ROTOR      4BBL\n",
       "165       DOHC      MPFI\n",
       "76         OHC      2BBL\n",
       "179       DOHC      MPFI\n",
       "8          OHC      MPFI"
      ]
     },
     "execution_count": 1132,
     "metadata": {},
     "output_type": "execute_result"
    }
   ],
   "source": [
    "# On mets les codes en lettres capitales\n",
    "df.enginetype = df.enginetype.apply(lambda x: x.upper())\n",
    "df.fuelsystem = df.fuelsystem.apply(lambda x: x.upper())\n",
    "\n",
    "# On renomme\n",
    "df = df.rename(columns={\n",
    "    'enginetype':'TypeMoteur',\n",
    "    'fuelsystem':'Injecteur'\n",
    "    })\n",
    "\n",
    "df[['TypeMoteur','Injecteur']].sample(5)"
   ]
  },
  {
   "attachments": {},
   "cell_type": "markdown",
   "metadata": {},
   "source": [
    "h. Nom de colonnes:\n",
    "- symboling, compressionratio, horsepower, peakrpm"
   ]
  },
  {
   "cell_type": "code",
   "execution_count": 1133,
   "metadata": {},
   "outputs": [],
   "source": [
    "# On traduit les colonnes restantes\n",
    "df = df.rename(columns={\n",
    "    'symboling' : 'CoteRisque',\n",
    "    'compressionratio' : 'TauxCompression',\n",
    "    'horsepower' : 'Chevaux',\n",
    "    'peakrpm' : 'Régime(tr/min)',\n",
    "    'price' : 'Prix($)',\n",
    "})"
   ]
  },
  {
   "attachments": {},
   "cell_type": "markdown",
   "metadata": {},
   "source": [
    "i. Repositionnement des colonnes"
   ]
  },
  {
   "cell_type": "code",
   "execution_count": 1134,
   "metadata": {},
   "outputs": [],
   "source": [
    "# On reposition les colonnes en les regroupant par catégories\n",
    "df = df[[\n",
    "    'Prix($)', #Notre target\n",
    "    'Marque', 'Modèle', 'Classe', 'Portes', #Caracteristiques physiques\n",
    "    'Longueur(cm)', 'Hauteur(cm)', 'Largeur(cm)','Empattement(cm)', 'Moteur(cm³)','Poids(t)', #Dimensions\n",
    "    'Carburant', 'ConsommationVille(L/100km)', 'ConsommationAutoroute(L/100km)', #Consommation\n",
    "    'PositionMoteur','Transmission', #Mécanique\n",
    "    'Chevaux', 'Régime(tr/min)', 'Turbo', 'Cylindres', #Puissance\n",
    "    'Injecteur','TypeMoteur', #Codes\n",
    "    'Alésage(mm)','Piston(cm)', #Pièces\n",
    "    'TauxCompression', #Ratio\n",
    "    'CoteRisque' #Assurance\n",
    "    ]]"
   ]
  },
  {
   "cell_type": "markdown",
   "metadata": {},
   "source": [
    "### 3. Traitement des lignes"
   ]
  },
  {
   "cell_type": "markdown",
   "metadata": {},
   "source": [
    "a. Marque"
   ]
  },
  {
   "cell_type": "code",
   "execution_count": 1135,
   "metadata": {},
   "outputs": [
    {
     "data": {
      "text/plain": [
       "array(['Alfa-Romero', 'Audi', 'Bmw', 'Chevrolet', 'Dodge', 'Honda',\n",
       "       'Isuzu', 'Jaguar', 'Maxda', 'Mazda', 'Buick', 'Mercury',\n",
       "       'Mitsubishi', 'Nissan', 'Peugeot', 'Plymouth', 'Porsche',\n",
       "       'Porcshce', 'Renault', 'Saab', 'Subaru', 'Toyota', 'Toyouta',\n",
       "       'Vokswagen', 'Volkswagen', 'Vw', 'Volvo'], dtype=object)"
      ]
     },
     "execution_count": 1135,
     "metadata": {},
     "output_type": "execute_result"
    }
   ],
   "source": [
    "# Certaines marques ont été mal orthographiées\n",
    "df.Marque.unique()"
   ]
  },
  {
   "cell_type": "code",
   "execution_count": 1136,
   "metadata": {},
   "outputs": [],
   "source": [
    "# On corrige en appliquant le bon orthographe sur des masques\n",
    "df.loc[df.Marque == 'Alfa-Romero', 'Marque'] = 'Alfa-Romeo'\n",
    "df.loc[df.Marque == 'Bmw', 'Marque'] = 'BMW'\n",
    "df.loc[df.Marque == 'Toyouta', 'Marque'] = 'Toyota'\n",
    "df.loc[df.Marque == 'Maxda', 'Marque'] = 'Mazda'\n",
    "df.loc[df.Marque == 'Porcshce', 'Marque'] = 'Porsche'\n",
    "df.loc[(df.Marque == 'Vokswagen') | (df.Marque == 'Vw'), 'Marque'] = 'Volkswagen'"
   ]
  },
  {
   "cell_type": "code",
   "execution_count": 1137,
   "metadata": {},
   "outputs": [
    {
     "data": {
      "text/plain": [
       "array(['Alfa-Romeo', 'Audi', 'BMW', 'Chevrolet', 'Dodge', 'Honda',\n",
       "       'Isuzu', 'Jaguar', 'Mazda', 'Buick', 'Mercury', 'Mitsubishi',\n",
       "       'Nissan', 'Peugeot', 'Plymouth', 'Porsche', 'Renault', 'Saab',\n",
       "       'Subaru', 'Toyota', 'Volkswagen', 'Volvo'], dtype=object)"
      ]
     },
     "execution_count": 1137,
     "metadata": {},
     "output_type": "execute_result"
    }
   ],
   "source": [
    "# Toutes les marques sont orthographiées pareil\n",
    "df.Marque.unique()"
   ]
  },
  {
   "cell_type": "markdown",
   "metadata": {},
   "source": [
    "b. Modèle"
   ]
  },
  {
   "cell_type": "code",
   "execution_count": 1138,
   "metadata": {},
   "outputs": [
    {
     "data": {
      "text/plain": [
       "array(['Giulia', 'Stelvio', 'Quadrifoglio', '100Ls', 'Fox', '5000',\n",
       "       '4000', '5000S (Diesel)', '320I', 'X1', 'X3', 'Z4', 'X4', 'X5',\n",
       "       'Impala', 'Monte Carlo', 'Vega 2300', 'Rampage', 'Challenger Se',\n",
       "       'D200', 'Monaco (Sw)', 'Colt Hardtop', 'Colt (Sw)',\n",
       "       'Coronet Custom', 'Dart Custom', 'Coronet Custom (Sw)', 'Civic',\n",
       "       'Civic Cvcc', 'Accord Cvcc', 'Accord Lx', 'Civic 1500 Gl',\n",
       "       'Accord', 'Civic 1300', 'Prelude', 'Civic (Auto)', 'Mu-X',\n",
       "       'D-Max ', 'D-Max V-Cross', 'Xj', 'Xf', 'Xk', 'Rx3', 'Glc Deluxe',\n",
       "       'Rx2 Coupe', 'Rx-4', '626', 'Glc', 'Rx-7 Gs', 'Glc 4',\n",
       "       'Glc Custom L', 'Glc Custom', 'Electra 225 Custom',\n",
       "       'Century Luxus (Sw)', 'Century', 'Skyhawk', 'Opel Isuzu Deluxe',\n",
       "       'Skylark', 'Century Special', 'Regal Sport Coupe (Turbo)',\n",
       "       'Cougar', 'Mirage', 'Lancer', 'Outlander', 'G4', 'Mirage G4',\n",
       "       'Montero', 'Pajero', 'Versa', 'Gt-R', 'Rogue', 'Latio', 'Titan',\n",
       "       'Leaf', 'Juke', 'Note', 'Clipper', 'Nv200', 'Dayz', 'Fuga', 'Otti',\n",
       "       'Teana', 'Kicks', '504', '304', '504 (Sw)', '604Sl',\n",
       "       '505S Turbo Diesel', 'Fury Iii', 'Cricket',\n",
       "       'Satellite Custom (Sw)', 'Fury Gran Sedan', 'Valiant', 'Duster',\n",
       "       'Macan', 'Panamera', 'Cayenne', 'Boxter', '12Tl', '5 Gtl', '99E',\n",
       "       '99Le', '99Gle', '', 'Dl', 'Brz', 'Baja', 'R1', 'R2', 'Trezia',\n",
       "       'Tribeca', 'Corona Mark Ii', 'Corona', 'Corolla 1200',\n",
       "       'Corona Hardtop', 'Corolla 1600 (Sw)', 'Carina', 'Mark Ii',\n",
       "       'Corolla', 'Corolla Liftback', 'Celica Gt Liftback',\n",
       "       'Corolla Tercel', 'Corona Liftback', 'Starlet', 'Tercel',\n",
       "       'Cressida', 'Celica Gt', 'Rabbit', '1131 Deluxe Sedan',\n",
       "       'Model 111', 'Type 3', '411 (Sw)', 'Super Beetle', 'Dasher',\n",
       "       'Rabbit Custom', '145E (Sw)', '144Ea', '244Dl', '245', '264Gl',\n",
       "       'Diesel', '246'], dtype=object)"
      ]
     },
     "execution_count": 1138,
     "metadata": {},
     "output_type": "execute_result"
    }
   ],
   "source": [
    "# On mets le même orthographe au modèle orthographié \"100Ls\" et \"100 Ls\"\n",
    "df.loc[df.Modèle == '100 Ls', 'Modèle'] = '100Ls'\n",
    "df.Modèle.unique()"
   ]
  },
  {
   "attachments": {},
   "cell_type": "markdown",
   "metadata": {},
   "source": [
    "### 4. Export\n"
   ]
  },
  {
   "cell_type": "code",
   "execution_count": 1140,
   "metadata": {},
   "outputs": [],
   "source": [
    "df.to_csv('data/cars_infos_cleaned.csv', index=False)"
   ]
  }
 ],
 "metadata": {
  "kernelspec": {
   "display_name": "Python 3",
   "language": "python",
   "name": "python3"
  },
  "language_info": {
   "codemirror_mode": {
    "name": "ipython",
    "version": 3
   },
   "file_extension": ".py",
   "mimetype": "text/x-python",
   "name": "python",
   "nbconvert_exporter": "python",
   "pygments_lexer": "ipython3",
   "version": "3.10.8"
  },
  "orig_nbformat": 4
 },
 "nbformat": 4,
 "nbformat_minor": 2
}
