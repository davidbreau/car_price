{
 "cells": [
  {
   "cell_type": "code",
   "execution_count": 401,
   "metadata": {},
   "outputs": [],
   "source": [
    "import pandas as pd\n",
    "from numpy import asarray\n",
    "from sklearn.model_selection import train_test_split, GridSearchCV\n",
    "from sklearn.pipeline import Pipeline\n",
    "from sklearn.preprocessing import MinMaxScaler, StandardScaler, RobustScaler, OneHotEncoder, PolynomialFeatures\n",
    "from sklearn.ensemble import RandomForestRegressor\n",
    "from sklearn.compose import ColumnTransformer\n",
    "from sklearn.linear_model import LinearRegression, Lasso, SGDRegressor, Ridge\n",
    "import pickle"
   ]
  },
  {
   "attachments": {},
   "cell_type": "markdown",
   "metadata": {},
   "source": [
    "### Modèle d'entraînement"
   ]
  },
  {
   "cell_type": "markdown",
   "metadata": {},
   "source": [
    "Import"
   ]
  },
  {
   "cell_type": "code",
   "execution_count": 402,
   "metadata": {},
   "outputs": [],
   "source": [
    "df = pd.read_csv('data/cars_infos_cleaned.csv')"
   ]
  },
  {
   "attachments": {},
   "cell_type": "markdown",
   "metadata": {},
   "source": [
    "Répartition"
   ]
  },
  {
   "cell_type": "code",
   "execution_count": 403,
   "metadata": {},
   "outputs": [],
   "source": [
    "# On définit notre target\n",
    "y = df['Prix($)']\n",
    "# Et nos features\n",
    "X = df[[\n",
    "    'Marque',\n",
    "    'Modèle',\n",
    "    'Classe', \n",
    "    'Portes', \n",
    "    'Longueur(cm)',\n",
    "    'Hauteur(cm)', \n",
    "    'Largeur(cm)', \n",
    "    'Empattement(cm)', \n",
    "    'Moteur(cm³)',\n",
    "    'Poids(t)', \n",
    "    'Carburant', \n",
    "    'ConsommationVille(L/100km)',\n",
    "    'ConsommationAutoroute(L/100km)',\n",
    "    'PositionMoteur',\n",
    "    'Transmission',\n",
    "    'Chevaux',\n",
    "    'Régime(tr/min)', \n",
    "    'Turbo', \n",
    "    'Cylindres', \n",
    "    'Injecteur',\n",
    "    'TypeMoteur', \n",
    "    'Alésage(mm)', \n",
    "    'Piston(cm)', \n",
    "    'TauxCompression',\n",
    "    # 'CoteRisque'\n",
    "]]"
   ]
  },
  {
   "attachments": {},
   "cell_type": "markdown",
   "metadata": {},
   "source": [
    "Séparation train/test"
   ]
  },
  {
   "cell_type": "code",
   "execution_count": 404,
   "metadata": {},
   "outputs": [],
   "source": [
    "X_train, X_test, y_train, y_test = train_test_split(\n",
    "    X, y, train_size=0.8, random_state=42\n",
    "    )"
   ]
  },
  {
   "cell_type": "markdown",
   "metadata": {},
   "source": [
    "Répartition des features"
   ]
  },
  {
   "cell_type": "code",
   "execution_count": 405,
   "metadata": {},
   "outputs": [],
   "source": [
    "numeric_features = [ \n",
    "    'Longueur(cm)',\n",
    "    'Hauteur(cm)', \n",
    "    'Largeur(cm)', \n",
    "    'Empattement(cm)', \n",
    "    'Moteur(cm³)',\n",
    "    'Poids(t)', \n",
    "    'ConsommationVille(L/100km)',\n",
    "    'ConsommationAutoroute(L/100km)',\n",
    "    'Chevaux',\n",
    "    'Régime(tr/min)', \n",
    "    'Cylindres', \n",
    "    'Alésage(mm)', \n",
    "    'Piston(cm)', \n",
    "    'TauxCompression',\n",
    "    # 'CoteRisque'\n",
    "]\n",
    "\n",
    "categorical_features = [\n",
    "    'Marque',\n",
    "    'Modèle',\n",
    "    'Classe', \n",
    "    'Portes', \n",
    "    'Carburant', \n",
    "    'PositionMoteur',\n",
    "    'Transmission',\n",
    "    'Turbo', \n",
    "    'Injecteur',\n",
    "    'TypeMoteur', \n",
    "]"
   ]
  },
  {
   "attachments": {},
   "cell_type": "markdown",
   "metadata": {},
   "source": [
    "Transformateurs numériques"
   ]
  },
  {
   "cell_type": "code",
   "execution_count": 406,
   "metadata": {},
   "outputs": [],
   "source": [
    "numeric_transformer_minmax = Pipeline([('minmax', MinMaxScaler())])\n",
    "numeric_transformer_std = Pipeline([('standard', StandardScaler())])\n",
    "numeric_transformer_rbst = Pipeline([('robust', RobustScaler()),])\n",
    "\n",
    "numeric_transformers = [\n",
    "    numeric_transformer_minmax,\n",
    "    numeric_transformer_std,\n",
    "    numeric_transformer_rbst\n",
    "]"
   ]
  },
  {
   "cell_type": "markdown",
   "metadata": {},
   "source": [
    "Transformateur catégorielle"
   ]
  },
  {
   "cell_type": "code",
   "execution_count": 407,
   "metadata": {},
   "outputs": [],
   "source": [
    "categorical_transformer = OneHotEncoder(sparse_output=True, handle_unknown='ignore')"
   ]
  },
  {
   "cell_type": "markdown",
   "metadata": {},
   "source": [
    "Estimateurs"
   ]
  },
  {
   "cell_type": "code",
   "execution_count": 408,
   "metadata": {},
   "outputs": [],
   "source": [
    "lnr = LinearRegression()\n",
    "lasso = Lasso(alpha=0.1)\n",
    "sgd = SGDRegressor(max_iter= 5000, tol= 1e-3)\n",
    "ridge = Ridge(alpha=0.5)\n",
    "randomforest = RandomForestRegressor()"
   ]
  },
  {
   "attachments": {},
   "cell_type": "markdown",
   "metadata": {},
   "source": [
    "Essais"
   ]
  },
  {
   "cell_type": "code",
   "execution_count": 409,
   "metadata": {},
   "outputs": [],
   "source": [
    "#Dictionnaires qui permettront d'enregistrer les scores des différents essais\n",
    "scores = {}\n",
    "transformer_dict = {\n",
    "    1 : 'minmax',\n",
    "    2 : 'standart',\n",
    "    3 : 'robust'  \n",
    "    }"
   ]
  },
  {
   "cell_type": "markdown",
   "metadata": {},
   "source": [
    "1. LinearRegression"
   ]
  },
  {
   "cell_type": "code",
   "execution_count": 410,
   "metadata": {},
   "outputs": [],
   "source": [
    "counter = 0\n",
    "#on itère sur les transformateurs\n",
    "for transformer in numeric_transformers:\n",
    "    #on définit le preprocesseur\n",
    "    preprocessor = ColumnTransformer(\n",
    "    transformers=[\n",
    "        ('num', transformer, numeric_features),\n",
    "        ('cat', categorical_transformer, categorical_features)\n",
    "    ])\n",
    "    #on définit le pipeline\n",
    "    pipe = Pipeline([\n",
    "        ('prep', preprocessor),\n",
    "        ('estimator', lnr)\n",
    "    ])\n",
    "    trained_pipe = pipe.fit(X_train, y_train)\n",
    "    trained_pipe.predict(X_test)\n",
    "    score = trained_pipe.score(X_test, y_test)\n",
    "    counter += 1\n",
    "    #on définit un string regroupant le nom des\n",
    "    scorestring = f'LNR_{transformer_dict[counter]}'\n",
    "    scores[scorestring] = score\n",
    "    "
   ]
  },
  {
   "cell_type": "markdown",
   "metadata": {},
   "source": [
    "2. Lasso"
   ]
  },
  {
   "cell_type": "code",
   "execution_count": 411,
   "metadata": {},
   "outputs": [
    {
     "name": "stderr",
     "output_type": "stream",
     "text": [
      "/home/apprenant/miniconda3/lib/python3.10/site-packages/sklearn/linear_model/_coordinate_descent.py:592: ConvergenceWarning: Objective did not converge. You might want to increase the number of iterations. Duality gap: 13742287.239476837, tolerance: 978060.5331304879\n",
      "  model = cd_fast.sparse_enet_coordinate_descent(\n",
      "/home/apprenant/miniconda3/lib/python3.10/site-packages/sklearn/linear_model/_coordinate_descent.py:592: ConvergenceWarning: Objective did not converge. You might want to increase the number of iterations. Duality gap: 19373324.495330922, tolerance: 978060.5331304879\n",
      "  model = cd_fast.sparse_enet_coordinate_descent(\n",
      "/home/apprenant/miniconda3/lib/python3.10/site-packages/sklearn/linear_model/_coordinate_descent.py:592: ConvergenceWarning: Objective did not converge. You might want to increase the number of iterations. Duality gap: 19310450.4751257, tolerance: 978060.5331304879\n",
      "  model = cd_fast.sparse_enet_coordinate_descent(\n"
     ]
    }
   ],
   "source": [
    "counter = 0\n",
    "#on recommence en changeant l'estimateur et son nom dans l'enregistreur de score\n",
    "for transformer in numeric_transformers:\n",
    "    preprocessor = ColumnTransformer(\n",
    "    transformers=[\n",
    "        ('num', transformer, numeric_features),\n",
    "        ('cat', categorical_transformer, categorical_features)\n",
    "    ])\n",
    "    pipe = Pipeline([\n",
    "        ('prep', preprocessor),\n",
    "        ('estimator', lasso)\n",
    "    ])\n",
    "    trained_pipe = pipe.fit(X_train, y_train)\n",
    "    trained_pipe.predict(X_test)\n",
    "    score = trained_pipe.score(X_test, y_test)\n",
    "    counter += 1\n",
    "    scorestring = f'LASSO_{transformer_dict[counter]}'\n",
    "    scores[scorestring] = score"
   ]
  },
  {
   "cell_type": "markdown",
   "metadata": {},
   "source": [
    "3. SGDRegressor"
   ]
  },
  {
   "cell_type": "code",
   "execution_count": 412,
   "metadata": {},
   "outputs": [],
   "source": [
    "counter = 0\n",
    "for transformer in numeric_transformers:\n",
    "    preprocessor = ColumnTransformer(\n",
    "    transformers=[\n",
    "        ('num', transformer, numeric_features),\n",
    "        ('cat', categorical_transformer, categorical_features)\n",
    "    ])\n",
    "    #on définit le pipeline\n",
    "    pipe = Pipeline([\n",
    "        ('prep', preprocessor),\n",
    "        ('estimator', sgd)\n",
    "    ])\n",
    "    trained_pipe = pipe.fit(X_train, y_train)\n",
    "    trained_pipe.predict(X_test)\n",
    "    score = trained_pipe.score(X_test, y_test)\n",
    "    counter += 1\n",
    "    scorestring = f'SGD_{transformer_dict[counter]}'\n",
    "    scores[scorestring] = score"
   ]
  },
  {
   "cell_type": "markdown",
   "metadata": {},
   "source": [
    "4. Ridge"
   ]
  },
  {
   "cell_type": "code",
   "execution_count": 413,
   "metadata": {},
   "outputs": [],
   "source": [
    "counter = 0\n",
    "for transformer in numeric_transformers:\n",
    "    preprocessor = ColumnTransformer(\n",
    "    transformers=[\n",
    "        ('num', transformer, numeric_features),\n",
    "        ('cat', categorical_transformer, categorical_features)\n",
    "    ])\n",
    "    #on définit le pipeline\n",
    "    pipe = Pipeline([\n",
    "        ('prep', preprocessor),\n",
    "        ('estimator', ridge)\n",
    "    ])\n",
    "    trained_pipe = pipe.fit(X_train, y_train)\n",
    "    trained_pipe.predict(X_test)\n",
    "    score = trained_pipe.score(X_test, y_test)\n",
    "    counter += 1\n",
    "    scorestring = f'RIDGE_{transformer_dict[counter]}'\n",
    "    scores[scorestring] = score"
   ]
  },
  {
   "cell_type": "markdown",
   "metadata": {},
   "source": [
    "5. RandomForestRegressor"
   ]
  },
  {
   "cell_type": "code",
   "execution_count": 414,
   "metadata": {},
   "outputs": [],
   "source": [
    "counter = 0\n",
    "for transformer in numeric_transformers:\n",
    "    preprocessor = ColumnTransformer(\n",
    "    transformers=[\n",
    "        ('num', transformer, numeric_features),\n",
    "        ('cat', categorical_transformer, categorical_features)\n",
    "    ])\n",
    "    #on définit le pipeline\n",
    "    pipe = Pipeline([\n",
    "        ('prep', preprocessor),\n",
    "        ('estimator', randomforest)\n",
    "    ])\n",
    "    trained_pipe = pipe.fit(X_train, y_train)\n",
    "    trained_pipe.predict(X_test)\n",
    "    score = trained_pipe.score(X_test, y_test)\n",
    "    counter += 1\n",
    "    scorestring = f'RANDOMFOREST_{transformer_dict[counter]}'\n",
    "    scores[scorestring] = score"
   ]
  },
  {
   "cell_type": "code",
   "execution_count": 415,
   "metadata": {},
   "outputs": [
    {
     "data": {
      "text/plain": [
       "{'LNR_minmax': 0.8419553939436093,\n",
       " 'LNR_standart': 0.8419504135148801,\n",
       " 'LNR_robust': 0.8417340562668099,\n",
       " 'LASSO_minmax': 0.91185046176733,\n",
       " 'LASSO_standart': 0.9133664759208652,\n",
       " 'LASSO_robust': 0.9133167233652554,\n",
       " 'SGD_minmax': 0.8680948843540253,\n",
       " 'SGD_standart': 0.8842819041400505,\n",
       " 'SGD_robust': 0.8728696177825752,\n",
       " 'RIDGE_minmax': 0.8631495364809691,\n",
       " 'RIDGE_standart': 0.8884534052177184,\n",
       " 'RIDGE_robust': 0.8895011981926942,\n",
       " 'RANDOMFOREST_minmax': 0.9519184962843126,\n",
       " 'RANDOMFOREST_standart': 0.9544576069066135,\n",
       " 'RANDOMFOREST_robust': 0.9551854392084838}"
      ]
     },
     "execution_count": 415,
     "metadata": {},
     "output_type": "execute_result"
    }
   ],
   "source": [
    "# Aperçu des scores enregistrés\n",
    "scores"
   ]
  },
  {
   "cell_type": "code",
   "execution_count": 416,
   "metadata": {},
   "outputs": [
    {
     "name": "stdout",
     "output_type": "stream",
     "text": [
      "Meilleur score : 0.9551854392084838' / Transformateur : ROBUST / Eestimateur : RANDOMFOREST\n"
     ]
    }
   ],
   "source": [
    "# Affichage des meilleurs paramètres\n",
    "\n",
    "bestscore = max(scores.values())\n",
    "bestcombo = [k for (k, val) in scores.items() if val == bestscore][0]\n",
    "print(f\"Meilleur score : {bestscore}' / Transformateur : {bestcombo.split('_')[1].upper()} / Eestimateur : {bestcombo.split('_')[0]}\")"
   ]
  },
  {
   "attachments": {},
   "cell_type": "markdown",
   "metadata": {},
   "source": [
    "Nous savons alors quel duo d'estimateur et de transformateur nous gardons pour la prédiction sur l'application"
   ]
  }
 ],
 "metadata": {
  "kernelspec": {
   "display_name": "Python 3",
   "language": "python",
   "name": "python3"
  },
  "language_info": {
   "codemirror_mode": {
    "name": "ipython",
    "version": 3
   },
   "file_extension": ".py",
   "mimetype": "text/x-python",
   "name": "python",
   "nbconvert_exporter": "python",
   "pygments_lexer": "ipython3",
   "version": "3.10.8"
  },
  "orig_nbformat": 4
 },
 "nbformat": 4,
 "nbformat_minor": 2
}
