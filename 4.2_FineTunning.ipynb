{
 "cells": [
  {
   "cell_type": "code",
   "execution_count": 236,
   "metadata": {},
   "outputs": [],
   "source": [
    "import pandas as pd\n",
    "from sklearn.model_selection import train_test_split, GridSearchCV, cross_val_score\n",
    "from sklearn.pipeline import Pipeline\n",
    "from sklearn.preprocessing import StandardScaler, OneHotEncoder, PolynomialFeatures\n",
    "from sklearn.ensemble import RandomForestRegressor\n",
    "from sklearn.compose import ColumnTransformer\n",
    "import pickle"
   ]
  },
  {
   "cell_type": "markdown",
   "metadata": {},
   "source": [
    "Import"
   ]
  },
  {
   "cell_type": "code",
   "execution_count": 237,
   "metadata": {},
   "outputs": [],
   "source": [
    "df = pd.read_csv('data/cars_infos_cleaned.csv')"
   ]
  },
  {
   "cell_type": "markdown",
   "metadata": {},
   "source": [
    "Répartition"
   ]
  },
  {
   "cell_type": "code",
   "execution_count": 238,
   "metadata": {},
   "outputs": [],
   "source": [
    "# On définit notre target\n",
    "y = df['Prix($)']\n",
    "# Et nos features, en supprimant les features qui baisserait la précision de notre modèle.\n",
    "X = df[[\n",
    "    'Marque',\n",
    "    # 'Modèle',\n",
    "    'Classe', \n",
    "    'Portes', \n",
    "    'Longueur(cm)',\n",
    "    # 'Hauteur(cm)', \n",
    "    'Largeur(cm)', \n",
    "    # 'Empattement(cm)', \n",
    "    'Moteur(cm³)',\n",
    "    'Poids(t)', \n",
    "    'Carburant', \n",
    "    'ConsommationVille(L/100km)',\n",
    "    # 'ConsommationAutoroute(L/100km)',\n",
    "    'PositionMoteur',\n",
    "    'Transmission',\n",
    "    'Chevaux',\n",
    "    # 'Régime(tr/min)', \n",
    "    'Turbo', \n",
    "    'Cylindres', \n",
    "    # 'Injecteur',\n",
    "    # 'TypeMoteur', \n",
    "    # 'Alésage(mm)', \n",
    "    # 'Piston(cm)', \n",
    "    # 'TauxCompression',\n",
    "    # 'CoteRisque'\n",
    "]]"
   ]
  },
  {
   "cell_type": "markdown",
   "metadata": {},
   "source": [
    "Séparation train/test"
   ]
  },
  {
   "cell_type": "code",
   "execution_count": 239,
   "metadata": {},
   "outputs": [],
   "source": [
    "X_train, X_test, y_train, y_test = train_test_split(\n",
    "    X, y, train_size=0.8, random_state=42\n",
    "    )"
   ]
  },
  {
   "cell_type": "markdown",
   "metadata": {},
   "source": [
    "Répartition des features"
   ]
  },
  {
   "cell_type": "code",
   "execution_count": 240,
   "metadata": {},
   "outputs": [],
   "source": [
    "numeric_features = [ \n",
    "    'Longueur(cm)',\n",
    "    # 'Hauteur(cm)', \n",
    "    'Largeur(cm)', \n",
    "    # 'Empattement(cm)', \n",
    "    'Moteur(cm³)',\n",
    "    'Poids(t)', \n",
    "    'ConsommationVille(L/100km)',\n",
    "    # 'ConsommationAutoroute(L/100km)',\n",
    "    'Chevaux',\n",
    "    # 'Régime(tr/min)', \n",
    "    'Cylindres', \n",
    "    # 'Alésage(mm)', \n",
    "    # 'Piston(cm)', \n",
    "    # 'TauxCompression',\n",
    "    # 'CoteRisque'\n",
    "]\n",
    "\n",
    "categorical_features = [\n",
    "    'Marque',\n",
    "    # 'Modèle',\n",
    "    'Classe', \n",
    "    'Portes', \n",
    "    'Carburant', \n",
    "    'PositionMoteur',\n",
    "    'Transmission',\n",
    "    'Turbo', \n",
    "    # 'Injecteur',\n",
    "    # 'TypeMoteur', \n",
    "]"
   ]
  },
  {
   "attachments": {},
   "cell_type": "markdown",
   "metadata": {},
   "source": [
    "Transformateur numérique"
   ]
  },
  {
   "cell_type": "code",
   "execution_count": 241,
   "metadata": {},
   "outputs": [],
   "source": [
    "numeric_transformer_std = Pipeline([\n",
    "    ('standard', StandardScaler()),\n",
    "    #on ajoute les polynomial features\n",
    "    ('poly', PolynomialFeatures(degree=3))\n",
    "    ])"
   ]
  },
  {
   "cell_type": "markdown",
   "metadata": {},
   "source": [
    "Transformateur catégorielle"
   ]
  },
  {
   "cell_type": "code",
   "execution_count": 242,
   "metadata": {},
   "outputs": [],
   "source": [
    "categorical_transformer = OneHotEncoder(sparse_output=True, handle_unknown='ignore')"
   ]
  },
  {
   "cell_type": "code",
   "execution_count": 243,
   "metadata": {},
   "outputs": [],
   "source": [
    "preprocessor = ColumnTransformer(\n",
    "    transformers=[\n",
    "        ('num', numeric_transformer_std, numeric_features),\n",
    "        ('cat', categorical_transformer, categorical_features)\n",
    "    ],\n",
    "    remainder='passthrough'\n",
    ")"
   ]
  },
  {
   "cell_type": "markdown",
   "metadata": {},
   "source": [
    "Estimateur"
   ]
  },
  {
   "cell_type": "code",
   "execution_count": 244,
   "metadata": {},
   "outputs": [],
   "source": [
    "randomforest = RandomForestRegressor()"
   ]
  },
  {
   "cell_type": "markdown",
   "metadata": {},
   "source": [
    "Pipeline"
   ]
  },
  {
   "cell_type": "code",
   "execution_count": 245,
   "metadata": {},
   "outputs": [],
   "source": [
    "pipe = Pipeline([\n",
    "    ('prep', preprocessor),\n",
    "    ('esti', randomforest)\n",
    "])"
   ]
  },
  {
   "cell_type": "markdown",
   "metadata": {},
   "source": [
    "Score"
   ]
  },
  {
   "cell_type": "code",
   "execution_count": 246,
   "metadata": {},
   "outputs": [
    {
     "data": {
      "text/plain": [
       "0.9495503800156135"
      ]
     },
     "execution_count": 246,
     "metadata": {},
     "output_type": "execute_result"
    }
   ],
   "source": [
    "trained_pipe = pipe.fit(X_train, y_train)\n",
    "trained_pipe.predict(X_test)\n",
    "trained_pipe.score(X_test, y_test)"
   ]
  },
  {
   "cell_type": "markdown",
   "metadata": {},
   "source": [
    "Export"
   ]
  },
  {
   "cell_type": "code",
   "execution_count": 247,
   "metadata": {},
   "outputs": [],
   "source": [
    "pickle.dump(trained_pipe, open('data/trained_pipe.pkl', 'wb'))"
   ]
  }
 ],
 "metadata": {
  "kernelspec": {
   "display_name": "Python 3",
   "language": "python",
   "name": "python3"
  },
  "language_info": {
   "codemirror_mode": {
    "name": "ipython",
    "version": 3
   },
   "file_extension": ".py",
   "mimetype": "text/x-python",
   "name": "python",
   "nbconvert_exporter": "python",
   "pygments_lexer": "ipython3",
   "version": "3.10.8"
  },
  "orig_nbformat": 4
 },
 "nbformat": 4,
 "nbformat_minor": 2
}
