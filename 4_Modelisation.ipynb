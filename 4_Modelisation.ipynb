{
 "cells": [
  {
   "cell_type": "code",
   "execution_count": 89,
   "metadata": {},
   "outputs": [],
   "source": [
    "import pandas as pd\n",
    "from numpy import asarray\n",
    "from sklearn.model_selection import train_test_split\n",
    "from sklearn.pipeline import Pipeline\n",
    "from sklearn.preprocessing import MinMaxScaler, StandardScaler, RobustScaler, OneHotEncoder, PolynomialFeatures\n",
    "from sklearn.compose import ColumnTransformer\n",
    "from sklearn.linear_model import LinearRegression\n",
    "import pickle"
   ]
  },
  {
   "attachments": {},
   "cell_type": "markdown",
   "metadata": {},
   "source": [
    "### Régression Linéaire"
   ]
  },
  {
   "cell_type": "markdown",
   "metadata": {},
   "source": [
    "Import"
   ]
  },
  {
   "cell_type": "code",
   "execution_count": 90,
   "metadata": {},
   "outputs": [],
   "source": [
    "df = pd.read_csv('data/cars_infos_cleaned.csv')"
   ]
  },
  {
   "cell_type": "markdown",
   "metadata": {},
   "source": [
    "Répartition"
   ]
  },
  {
   "cell_type": "code",
   "execution_count": 91,
   "metadata": {},
   "outputs": [],
   "source": [
    "y = df['Prix($)']\n",
    "X = df[[\n",
    "    'Marque',\n",
    "    'Modèle',\n",
    "    'Classe', \n",
    "    'Portes', \n",
    "    'Longueur(cm)',\n",
    "    'Hauteur(cm)', \n",
    "    'Largeur(cm)', \n",
    "    'Empattement(cm)', \n",
    "    'Moteur(cm³)',\n",
    "    'Poids(t)', \n",
    "    'Carburant', \n",
    "    'ConsommationVille(L/100km)',\n",
    "    'ConsommationAutoroute(L/100km)',\n",
    "    'PositionMoteur',\n",
    "    'Transmission',\n",
    "    'Chevaux',\n",
    "    'Régime(tr/min)', \n",
    "    'Turbo', \n",
    "    'Cylindres', \n",
    "    'Injecteur',\n",
    "    'TypeMoteur', \n",
    "    'Alésage(mm)', \n",
    "    'Piston(cm)', \n",
    "    'TauxCompression',\n",
    "    # 'CoteRisque'\n",
    "]]"
   ]
  },
  {
   "cell_type": "markdown",
   "metadata": {},
   "source": [
    "Preparation du pipeline"
   ]
  },
  {
   "cell_type": "code",
   "execution_count": 92,
   "metadata": {},
   "outputs": [],
   "source": [
    "X_train, X_test, y_train, y_test = train_test_split(\n",
    "    X, y, train_size=0.8, random_state=42\n",
    "    )"
   ]
  },
  {
   "cell_type": "code",
   "execution_count": 93,
   "metadata": {},
   "outputs": [],
   "source": [
    "numeric_features = [ \n",
    "    'Longueur(cm)',\n",
    "    'Hauteur(cm)', \n",
    "    'Largeur(cm)', \n",
    "    'Empattement(cm)', \n",
    "    'Moteur(cm³)',\n",
    "    'Poids(t)', \n",
    "    'ConsommationVille(L/100km)',\n",
    "    'ConsommationAutoroute(L/100km)',\n",
    "    'Chevaux',\n",
    "    'Régime(tr/min)', \n",
    "    'Cylindres', \n",
    "    'Alésage(mm)', \n",
    "    'Piston(cm)', \n",
    "    'TauxCompression',\n",
    "    # 'CoteRisque'\n",
    "]\n",
    "\n",
    "categorial_features = [\n",
    "    'Marque',\n",
    "    'Modèle',\n",
    "    'Classe', \n",
    "    'Portes', \n",
    "    'Carburant', \n",
    "    'PositionMoteur',\n",
    "    'Transmission',\n",
    "    'Turbo', \n",
    "    'Injecteur',\n",
    "    'TypeMoteur', \n",
    "]"
   ]
  },
  {
   "cell_type": "code",
   "execution_count": 94,
   "metadata": {},
   "outputs": [],
   "source": [
    "#preparation des transformateurs numériques\n",
    "numeric_transformer_minmax = Pipeline([('minmax', MinMaxScaler())])\n",
    "numeric_transformer_std = Pipeline([('standard', StandardScaler())])\n",
    "numeric_transformer_rbst = Pipeline([('standard', RobustScaler()),])"
   ]
  },
  {
   "cell_type": "code",
   "execution_count": 95,
   "metadata": {},
   "outputs": [],
   "source": [
    "categorial_transformer = OneHotEncoder(sparse_output=True, handle_unknown='ignore')"
   ]
  },
  {
   "cell_type": "code",
   "execution_count": 96,
   "metadata": {},
   "outputs": [],
   "source": [
    "preprocessor_minmax = ColumnTransformer(\n",
    "    transformers=[\n",
    "        ('num', numeric_transformer_minmax, numeric_features),\n",
    "        ('cat', categorial_transformer, categorial_features)\n",
    "    ],\n",
    "    remainder='passthrough'\n",
    ")\n",
    "\n",
    "preprocessor_std = ColumnTransformer(\n",
    "    transformers=[\n",
    "        ('num', numeric_transformer_std, numeric_features),\n",
    "        ('cat', categorial_transformer, categorial_features)\n",
    "    ],\n",
    "    remainder='passthrough'\n",
    ")\n",
    "\n",
    "preprocessor_rbst = ColumnTransformer(\n",
    "    transformers=[\n",
    "        ('num', numeric_transformer_rbst, numeric_features),\n",
    "        ('cat', categorial_transformer, categorial_features)\n",
    "    ],\n",
    "    remainder='passthrough'\n",
    ")"
   ]
  },
  {
   "cell_type": "markdown",
   "metadata": {},
   "source": [
    "Estimateur"
   ]
  },
  {
   "cell_type": "code",
   "execution_count": 97,
   "metadata": {},
   "outputs": [],
   "source": [
    "lnr = LinearRegression()"
   ]
  },
  {
   "cell_type": "code",
   "execution_count": 101,
   "metadata": {},
   "outputs": [
    {
     "data": {
      "text/plain": [
       "0.8417340562668099"
      ]
     },
     "execution_count": 101,
     "metadata": {},
     "output_type": "execute_result"
    }
   ],
   "source": [
    "pipe = Pipeline([\n",
    "    ('prep', preprocessor_rbst),\n",
    "    ('lnr', lnr)\n",
    "])\n",
    "\n",
    "trained_pipe = pipe.fit(X_train, y_train)\n",
    "trained_pipe.predict(X_test)\n",
    "trained_pipe.score(X_test, y_test)"
   ]
  },
  {
   "cell_type": "code",
   "execution_count": 102,
   "metadata": {},
   "outputs": [],
   "source": [
    "pickle.dump(trained_pipe, open('data/trained_pipe.pkl', 'wb'))"
   ]
  }
 ],
 "metadata": {
  "kernelspec": {
   "display_name": "Python 3",
   "language": "python",
   "name": "python3"
  },
  "language_info": {
   "codemirror_mode": {
    "name": "ipython",
    "version": 3
   },
   "file_extension": ".py",
   "mimetype": "text/x-python",
   "name": "python",
   "nbconvert_exporter": "python",
   "pygments_lexer": "ipython3",
   "version": "3.10.8"
  },
  "orig_nbformat": 4
 },
 "nbformat": 4,
 "nbformat_minor": 2
}
